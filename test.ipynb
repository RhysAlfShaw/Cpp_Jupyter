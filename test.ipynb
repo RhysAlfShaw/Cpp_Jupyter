{
 "cells": [
  {
   "cell_type": "code",
   "execution_count": 49,
   "metadata": {
    "vscode": {
     "languageId": "cpp"
    }
   },
   "outputs": [
    {
     "name": "stdout",
     "output_type": "stream",
     "text": [
      "Hello, World!\n"
     ]
    }
   ],
   "source": [
    "#include <iostream>\n",
    "std::cout << \"Hello, World!\" << std::endl;"
   ]
  },
  {
   "cell_type": "code",
   "execution_count": 53,
   "metadata": {
    "vscode": {
     "languageId": "cpp"
    }
   },
   "outputs": [
    {
     "name": "stdout",
     "output_type": "stream",
     "text": [
      "Hello, World!\n",
      "1.99984\n"
     ]
    }
   ],
   "source": [
    "!g++ test.cpp -o test && ./test"
   ]
  },
  {
   "cell_type": "code",
   "execution_count": 51,
   "metadata": {
    "vscode": {
     "languageId": "cpp"
    }
   },
   "outputs": [],
   "source": [
    "#include <string>\n",
    "#include <vector>\n",
    "#include <algorithm>\n",
    "#include <cmath>\n",
    "\n",
    "double integral(double (*f)(double), double a, double b, int n) {\n",
    "    double h = (b - a) / n;\n",
    "    double sum = 0;\n",
    "    for (int i = 0; i < n; i++) {\n",
    "        sum += f(a + i * h);\n",
    "    }\n",
    "    return h * sum;\n",
    "}"
   ]
  },
  {
   "cell_type": "code",
   "execution_count": 52,
   "metadata": {
    "vscode": {
     "languageId": "cpp"
    }
   },
   "outputs": [
    {
     "name": "stdout",
     "output_type": "stream",
     "text": [
      "1.99984\n"
     ]
    }
   ],
   "source": [
    "auto f = [](double x) { return std::sin(x); };\n",
    "double pi = 3.14159265358979323846;\n",
    "std::cout << integral(f, 0, pi, 100) << std::endl;"
   ]
  }
 ],
 "metadata": {
  "kernelspec": {
   "display_name": "C++17",
   "language": "C++17",
   "name": "xcpp17"
  },
  "language_info": {
   "codemirror_mode": "text/x-c++src",
   "file_extension": ".cpp",
   "mimetype": "text/x-c++src",
   "name": "c++",
   "version": "17"
  }
 },
 "nbformat": 4,
 "nbformat_minor": 2
}
